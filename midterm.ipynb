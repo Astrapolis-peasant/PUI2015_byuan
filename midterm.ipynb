{
 "cells": [
  {
   "cell_type": "markdown",
   "metadata": {},
   "source": []
  },
  {
   "cell_type": "markdown",
   "metadata": {},
   "source": [
    "#Goal: Assess whether the number of Units per zip code is a good predictor of citibike trips originating from that zip code.\n",
    "\n",
    "##Motivation: \n",
    "CitiBike must distribute bike hubs efficiently. In order to do so it needs a good predictor of the number of rides originating from a location. It is a reasonable assumption that a lot of riders ride from home to their destination. It is also reasonable to assume that if the bikes are far from one's residence the rider would be discouraged from taking a bike.\n",
    "\n",
    "##Method: \n",
    "\n",
    "1) __Fit__ BOTH a first and second degree linear model  (a line and a parabola) to the number of rides per zip code (this is your dependent variable) as a function of number of Residential Units in that zip code (this is your independent variable). \n",
    "\n",
    "2) __Display__ your fits graphically with a plot. Describe your plot with a Caption in cell of the notebook\n",
    "\n",
    "\n",
    "3) __Compare__ you regression with a 1-degree polynomial to your regression with a 2-degree polynomial and __test__ (with the appropriate statistical test) which is better. \n",
    "\n",
    "4) Since points at the edge of the x range have a lot of \"leverage\" (have a large influence on your test) if you find that there are suspicious points at the limit of the independent variable that could be outliers make cuts that remove those points and redo the fits with the 1- and 2-degree polynomial, and test which is better as you did before with a statistical test\n",
    "\n",
    "5) __Please state in words your findings__. \n",
    "State in words the general quality of your prediction. You do not need to be rigorously stating your level of confidence, but do justify your level of belief in your best regression model, and if it seems a good idea to reduce the x range (remove suspicious outliers). \n",
    "\n",
    "6) __Discuss__ if the test could be improved: the number of residential units may be a good predictor under specific circumstances (restricting your dataset by any variable, eg only certain times, days, areas, what do you think?), and if you have time test these other hypothesis (for extra credit). Try and imagine what variable could be a better predictor (and if you have time test other vatiables also for extra credit)."
   ]
  },
  {
   "cell_type": "markdown",
   "metadata": {},
   "source": [
    "##DATA:\n",
    "\n",
    "   Rides: use at least 2 months of citibike data separated by more than 1/3 of the year (to mitigate seasonal effects). You can fit the 2 datasets separately or join them. Group the rides by 'start station id' (if you do not have the citibike data on your laptop you can get it here https://www.citibikenyc.com/system-data or any 2015 dataset here: http://cosmo.nyu.edu/~fb55/UI_CUSP_2015/data/)\n",
    " \n",
    "   Residential Units: Use the Pluto data. Data for Manhattan is available here: http://cosmo.nyu.edu/~fb55/UI_CUSP_2015/data/\n",
    "   Because of the large size of the Brookly file you are only required to do this with the Manhattan data. As Extra Credit: if at the end you have time repeat the analysis with the Brookly data and see if the results are different.\n",
    "\n",
    "   Zip codes of citibike stations: I prepared a json file with that info for you here: http://cosmo.nyu.edu/~fb55/UI_CUSP_2015/data/stationzips.json\n",
    "   \n",
    "   "
   ]
  },
  {
   "cell_type": "markdown",
   "metadata": {
    "collapsed": true
   },
   "source": [
    "Please label your plots, answer all questions, produce whatever outputs and plots help you in the process but try and remove useless outputs from your final version. Clearly state your answers in separate cells, so they are not lost and we can clearly see them. \n",
    "\n",
    "Please make an attempt to be PEP8 compliant. We will not be strict with PEP8 but complete disregard of the \"simplest most basic PEP8 rules\" will be noticed and repeated violations will be accounted for. If you forgot the simplest most basic PEP8 rules are here (). The complete rules here https://www.python.org/dev/peps/pep-0008/ https://code.google.com/p/soc/wiki/PythonStyleGuide "
   ]
  },
  {
   "cell_type": "markdown",
   "metadata": {},
   "source": [
    "As usual, there are many ways to do what you are required to do here, and we do not care which way you do it, which packages you use, how you wrangle and clean your data as long as you do all the tasks that are asked, and answer all the questions that are asked, and obtain results that are not incorrect (of course some ways are more elegant than others but elegance will just earn you extra time, if your code is efficient, and an honor badge and a nod from us, not a higher grade in this midterm). \n",
    "\n",
    "If you are comfortable with the description above and have a plan in mind and you need no further instructions go ahead and execute your plan! If you do not have a plan yet I recommend you sit down, collect your thoughts, remember what you have learned this year, try to come up with one and start working on it after you developed a roadmap in your head. \n",
    "\n",
    "I have solved this problem in a few ways, and identified what may be difficulties you may encounter. Some hints are available at this link (https://docs.google.com/document/d/13x2cPuBFwdlUyhFTtmMlTiaBkt3FSauHjarWfZx_QhE/edit?usp=sharing), and you are free to refer to them. However, I do recommend you go your own way and rely on what you know and wha you have learned and done so far in the PUI homework. \n",
    "\n",
    "\n"
   ]
  },
  {
   "cell_type": "code",
   "execution_count": null,
   "metadata": {
    "collapsed": true
   },
   "outputs": [],
   "source": []
  }
 ],
 "metadata": {
  "kernelspec": {
   "display_name": "Python 2",
   "language": "python",
   "name": "python2"
  },
  "language_info": {
   "codemirror_mode": {
    "name": "ipython",
    "version": 2
   },
   "file_extension": ".py",
   "mimetype": "text/x-python",
   "name": "python",
   "nbconvert_exporter": "python",
   "pygments_lexer": "ipython2",
   "version": "2.7.3"
  }
 },
 "nbformat": 4,
 "nbformat_minor": 0
}
