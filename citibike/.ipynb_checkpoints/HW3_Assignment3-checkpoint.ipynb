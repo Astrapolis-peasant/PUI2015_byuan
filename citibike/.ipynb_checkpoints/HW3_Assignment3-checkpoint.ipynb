{
 "cells": [
  {
   "cell_type": "markdown",
   "metadata": {},
   "source": [
    "# Assignment 3\n",
    "***\n",
    "### IDEA\n",
    "Customer has a longer trip duration than subscriber in average.\n",
    "\n",
    "### NULL HYPOTHESIS\n",
    "The mean of trip duration by customer is less than or the same as the one by subscriber.\n",
    "Choose confidence interval to be at $\\alpha = 0.05 $, which means I want the probability of getting a result at least as significant as mine to be less then 5%.\n",
    "\n",
    "### Reading data from citibike csv file from May 2015"
   ]
  },
  {
   "cell_type": "code",
   "execution_count": 10,
   "metadata": {
    "collapsed": false
   },
   "outputs": [
    {
     "name": "stdout",
     "output_type": "stream",
     "text": [
      "Populating the interactive namespace from numpy and matplotlib\n"
     ]
    }
   ],
   "source": [
    "import pandas as pd\n",
    "import numpy as np\n",
    "import matplotlib.pyplot as plt\n",
    "plt.style.use('ggplot')   # Comment this line if ggplot is not set up in the environment\n",
    "from scipy import stats\n",
    "import statsmodels.api as sm\n",
    "%pylab inline"
   ]
  },
  {
   "cell_type": "code",
   "execution_count": 11,
   "metadata": {
    "collapsed": true
   },
   "outputs": [],
   "source": [
    "df = pd.read_csv('201505-citibike-tripdata.csv')"
   ]
  },
  {
   "cell_type": "markdown",
   "metadata": {},
   "source": [
    "### Separating subscriber from customer for data description and testing"
   ]
  },
  {
   "cell_type": "code",
   "execution_count": 12,
   "metadata": {
    "collapsed": true
   },
   "outputs": [],
   "source": [
    "df['Dura_Subs'] = df['tripduration'][df['usertype']=='Subscriber']\n",
    "df['Dura_Cust'] = df['tripduration'][df['usertype']=='Customer']"
   ]
  },
  {
   "cell_type": "markdown",
   "metadata": {},
   "source": [
    "### Plot the histogram to see the distribution of trip duration among the two groups (subscriber and customer), outliers (≥3 standard deviations) are removed for the plotting."
   ]
  },
  {
   "cell_type": "code",
   "execution_count": 4,
   "metadata": {
    "collapsed": false
   },
   "outputs": [
    {
     "data": {
      "text/plain": [
       "<matplotlib.text.Text at 0x11027a3d0>"
      ]
     },
     "execution_count": 4,
     "metadata": {},
     "output_type": "execute_result"
    },
    {
     "data": {
      "image/png": "[encoded data removed]",
      "text/plain": [
       "<matplotlib.figure.Figure at 0x1029972d0>"
      ]
     },
     "metadata": {},
     "output_type": "display_data"
    }
   ],
   "source": [
    "plt.figure(1, figsize=(20, 8))\n",
    "ax1 = plt.subplot(1, 2, 1)\n",
    "ax1 = df[np.abs(df.Dura_Subs - df.Dura_Subs.mean()) <=\n",
    "         (3 * df.Dura_Subs.std())].Dura_Subs.plot(kind='hist', alpha=0.5)\n",
    "ax1.set_title('Subscriber')\n",
    "ax1.set_ylabel('Count')\n",
    "ax1.set_xlabel('Trip Duration (s)')\n",
    "ax2 = plt.subplot(1, 2, 2)\n",
    "ax2 = df[np.abs(df.Dura_Cust - df.Dura_Cust.mean()) <=\n",
    "         (3 * df.Dura_Cust.std())].Dura_Cust.plot(kind='hist', alpha=0.5)\n",
    "ax2.set_title('Customer')\n",
    "ax2.set_ylabel('Count')\n",
    "ax2.set_xlabel('Trip Duration (s)')"
   ]
  },
  {
   "cell_type": "markdown",
   "metadata": {},
   "source": [
    "### Now I describe the data of the two groups. Counts, mean, standard deviation and quantiles are shown as the following. It is obvious from the sample data that the mean value of trip duration by customer is signigicantly more than the one by subscriber."
   ]
  },
  {
   "cell_type": "code",
   "execution_count": 5,
   "metadata": {
    "collapsed": false
   },
   "outputs": [
    {
     "name": "stdout",
     "output_type": "stream",
     "text": [
      "Summary Statistics for Tripduration of Subscriber\n",
      "count     794442.000000\n",
      "mean         812.581442\n",
      "std         5652.498761\n",
      "min           60.000000\n",
      "25%          382.000000\n",
      "50%          602.000000\n",
      "75%          962.000000\n",
      "max      2937702.000000\n",
      "Name: Dura_Subs, dtype: float64\n",
      "Summary Statistics for Tripduration of Customer\n",
      "count     167544.000000\n",
      "mean        1890.023248\n",
      "std        10737.591368\n",
      "min           60.000000\n",
      "25%          801.000000\n",
      "50%         1254.000000\n",
      "75%         1753.000000\n",
      "max      2485503.000000\n",
      "Name: Dura_Cust, dtype: float64\n"
     ]
    }
   ],
   "source": [
    "print 'Summary Statistics for Tripduration of Subscriber'\n",
    "print df.Dura_Subs.describe()\n",
    "print 'Summary Statistics for Tripduration of Customer'\n",
    "print df.Dura_Cust.describe()"
   ]
  },
  {
   "cell_type": "markdown",
   "metadata": {},
   "source": [
    "### Since the distribution of the two samples looks highly skewed by the plot, I also want to calculate the skewness and kurtosis of them. They turned to be pretty high."
   ]
  },
  {
   "cell_type": "code",
   "execution_count": 6,
   "metadata": {
    "collapsed": false
   },
   "outputs": [
    {
     "data": {
      "text/plain": [
       "DescribeResult(nobs=794442, minmax=(60.0, 2937702.0), mean=812.58144206877284, variance=31950742.238911524, skewness=283.1263324854026, kurtosis=113969.2671797898)"
      ]
     },
     "execution_count": 6,
     "metadata": {},
     "output_type": "execute_result"
    }
   ],
   "source": [
    "stats.describe(df.Dura_Subs.dropna())"
   ]
  },
  {
   "cell_type": "code",
   "execution_count": 7,
   "metadata": {
    "collapsed": false
   },
   "outputs": [
    {
     "data": {
      "text/plain": [
       "DescribeResult(nobs=167544, minmax=(60.0, 2485503.0), mean=1890.0232476245046, variance=115295868.39421792, skewness=125.03038913766892, kurtosis=22419.8037039643)"
      ]
     },
     "execution_count": 7,
     "metadata": {},
     "output_type": "execute_result"
    }
   ],
   "source": [
    "stats.describe(df.Dura_Cust.dropna())"
   ]
  },
  {
   "cell_type": "markdown",
   "metadata": {},
   "source": [
    "### Plot the mean values of the two groups."
   ]
  },
  {
   "cell_type": "code",
   "execution_count": 8,
   "metadata": {
    "collapsed": false
   },
   "outputs": [
    {
     "data": {
      "text/plain": [
       "[<matplotlib.text.Text at 0x10d2916d0>, <matplotlib.text.Text at 0x10d299410>]"
      ]
     },
     "execution_count": 8,
     "metadata": {},
     "output_type": "execute_result"
    },
    {
     "data": {
      "image/png": "[encoded data removed]",
      "text/plain": [
       "<matplotlib.figure.Figure at 0x10b20e4d0>"
      ]
     },
     "metadata": {},
     "output_type": "display_data"
    }
   ],
   "source": [
    "plt.figure(2)\n",
    "ax3 = plt.subplot(1,1,1)\n",
    "ax3.bar([2,6], [df.Dura_Subs.mean(), df.Dura_Cust.mean()], [2,2])\n",
    "ax3.set_xlim(0,10)\n",
    "ax3.set_title('Mean of Trip Duration by Subscriber vs Customer')\n",
    "ax3.set_ylabel('Trip Duration (s)')\n",
    "ax3.set_xticks([3,7])\n",
    "ax3.set_xticklabels(('Subscriber','Customer'))"
   ]
  },
  {
   "cell_type": "markdown",
   "metadata": {},
   "source": [
    "### Since we are comparing the mean value of the two groups and we do not have the values for the population variaces, I hereby perform a two sample t-test using scipy.stats and assume the population does not have identical variances."
   ]
  },
  {
   "cell_type": "code",
   "execution_count": 9,
   "metadata": {
    "collapsed": false
   },
   "outputs": [
    {
     "data": {
      "text/plain": [
       "Ttest_indResult(statistic=39.922489386238531, pvalue=0.0)"
      ]
     },
     "execution_count": 9,
     "metadata": {},
     "output_type": "execute_result"
    }
   ],
   "source": [
    "stats.ttest_ind(df.Dura_Cust.dropna(), df.Dura_Subs.dropna(), equal_var = False)"
   ]
  },
  {
   "cell_type": "markdown",
   "metadata": {},
   "source": [
    "### The one-tailed p value is actually 1/2 of the calculated value and it is below the confidence level of 0.05. (a.k.a $p/2<\\alpha$ & $t>0$) Therefore, we can reject the null hypothesis and conclude that this study did provide statistical eveidence that the trip duration of customer is longer than the one of subscriber.\n",
    "### However, one must noticed that since the the skewness and kurtosis of the two samples are far beyond the acceptable levels of the normal distribution which violates the assumption that the populations from which the samples have been drawn should be normal, the conclusion we just derived from the t-test may not hold. \n",
    "### Hence, we recommend to do more nonparametric test in the future analysis."
   ]
  }
 ],
 "metadata": {
  "kernelspec": {
   "display_name": "Python 2",
   "language": "python",
   "name": "python2"
  },
  "language_info": {
   "codemirror_mode": {
    "name": "ipython",
    "version": 2
   },
   "file_extension": ".py",
   "mimetype": "text/x-python",
   "name": "python",
   "nbconvert_exporter": "python",
   "pygments_lexer": "ipython2",
   "version": "2.7.10"
  }
 },
 "nbformat": 4,
 "nbformat_minor": 0
}
